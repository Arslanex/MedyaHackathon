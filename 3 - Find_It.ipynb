{
  "nbformat": 4,
  "nbformat_minor": 0,
  "metadata": {
    "colab": {
      "provenance": []
    },
    "kernelspec": {
      "name": "python3",
      "display_name": "Python 3"
    },
    "language_info": {
      "name": "python"
    }
  },
  "cells": [
    {
      "cell_type": "code",
      "execution_count": null,
      "metadata": {
        "id": "z3AqXq8AHu_9"
      },
      "outputs": [],
      "source": [
        "FILENAME = \"siyasi.mp4\" # video\n",
        "SEARCH = \"millet\"       # aranan kelime"
      ]
    },
    {
      "cell_type": "markdown",
      "source": [
        "# Kurulumlar"
      ],
      "metadata": {
        "id": "gU8FxNElMO9P"
      }
    },
    {
      "cell_type": "code",
      "source": [
        "!pip install --quiet ipython-autotime\n",
        "%load_ext autotime\n",
        "\n",
        "!pip install --quiet ffmpeg-python==0.2.0"
      ],
      "metadata": {
        "id": "oOKpr0g-MPPl"
      },
      "execution_count": null,
      "outputs": []
    },
    {
      "cell_type": "markdown",
      "source": [
        "# Kütüphaneleri İçe Aktar"
      ],
      "metadata": {
        "id": "2VnMTUIzMPyY"
      }
    },
    {
      "cell_type": "code",
      "source": [
        "from getpass import getpass\n",
        "import requests\n",
        "import ffmpeg\n",
        "import re\n",
        "import os\n",
        "from pprint import pprint"
      ],
      "metadata": {
        "id": "iq453g7SMP82"
      },
      "execution_count": null,
      "outputs": []
    },
    {
      "cell_type": "markdown",
      "source": [
        "# Core Functions"
      ],
      "metadata": {
        "id": "eZpY3ZruM_YX"
      }
    },
    {
      "cell_type": "code",
      "source": [
        "def extract_sound_file(fileName):\n",
        "    \"\"\"\n",
        "    Bir MP4 dosyasından sesi çıkarıp MP3 formatında kaydeder.\n",
        "\n",
        "    Args:\n",
        "        fileName (str): Sesin çıkarılacak MP4 dosyasının adı.\n",
        "\n",
        "    Returns:\n",
        "        str: Oluşturulan MP3 dosyasının adı.\n",
        "    \"\"\"\n",
        "\n",
        "    # MP4 dosya adını MP3 formatına dönüştür\n",
        "    audiofilename = fileName.replace(\".mp4\", '.mp3')\n",
        "\n",
        "    # ffmpeg ile dosyayı okumak için giriş akışı oluştur\n",
        "    input_stream = ffmpeg.input(fileName)\n",
        "\n",
        "    # Giriş akışından sadece ses verisini al\n",
        "    audio = input_stream.audio\n",
        "\n",
        "    # Çıktı olarak kullanılacak ses dosyasını ve adını ayarla\n",
        "    output_stream = ffmpeg.output(audio, audiofilename)\n",
        "\n",
        "    # Eğer hedef dosya zaten varsa üzerine yaz\n",
        "    output_stream = ffmpeg.overwrite_output(output_stream)\n",
        "\n",
        "    # ffmpeg işlemini başlat ve ses dosyasını oluştur\n",
        "    ffmpeg.run(output_stream)\n",
        "\n",
        "    # Oluşturulan ses dosyasının adını döndür\n",
        "    return audiofilename\n",
        "\n",
        "def uploadFileAndGetTranscription(file_path, deepgram_api_key):\n",
        "    \"\"\"\n",
        "    Ses dosyasını Deepgram API'sine yükler ve transkripsiyonunu alır.\n",
        "\n",
        "    Args:\n",
        "        file_path (str): Yüklenecek ses dosyasının yolu.\n",
        "        deepgram_api_key (str): Deepgram API kullanımı için gerekli olan API anahtarı.\n",
        "\n",
        "    Returns:\n",
        "        dict: API'den dönen JSON yanıtını içeren bir sözlük. Genellikle transkripsiyon ve diğer ilgili bilgileri içerir.\n",
        "    \"\"\"\n",
        "\n",
        "    # url = \"https://api.deepgram.com/v1/listen\"  # Deepgram API'nin ses dosyası dinleme endpoint'i\n",
        "    url = \"https://api.deepgram.com/v1/listen?model=whisper-large&language=en&punctuate=true&diarize=true&smart_format=true\"\n",
        "\n",
        "\n",
        "    headers = {\n",
        "        \"Authorization\": f\"Token {deepgram_api_key}\"  # API anahtarını içeren yetkilendirme başlığı\n",
        "    }\n",
        "\n",
        "    # Ses dosyasını binary okuma modunda aç\n",
        "    with open(file_path, 'rb') as audio_file:\n",
        "        files = {\n",
        "            'file': audio_file  # Ses dosyasını, istekle birlikte gönderilecek dosyaların bir parçası olarak ekleyin\n",
        "        }\n",
        "\n",
        "        # POST isteğini yap, dosyayı ve başlıkları gönder\n",
        "        response = requests.post(url, headers=headers, files=files)\n",
        "        # API'nin yanıtını JSON formatında dön\n",
        "    return response.json()  # API yanıtını JSON olarak döndür\n",
        "\n",
        "\n",
        "def convert_to_srt(data, output_filename):\n",
        "    \"\"\"\n",
        "    Verilen veriyi SRT (SubRip Text) formatına dönüştürür ve bir dosyaya yazar.\n",
        "\n",
        "    Args:\n",
        "        data (list): Her biri 'start', 'end' ve 'word' anahtarlarına sahip sözlükler listesi.\n",
        "                     'start' ve 'end', altyazının başlangıç ve bitiş zamanlarını saniye cinsinden belirtir.\n",
        "                     'word', altyazı metnini içerir.\n",
        "        output_filename (str): Oluşturulan SRT dosyasının kaydedileceği dosya adı.\n",
        "    \"\"\"\n",
        "\n",
        "    def format_time(seconds):\n",
        "        \"\"\"\n",
        "        Verilen süreyi saat:dakika:saniye,milisaniye formatına dönüştürür.\n",
        "\n",
        "        Args:\n",
        "            seconds (float): Dönüştürülecek süre, saniye cinsinden.\n",
        "\n",
        "        Returns:\n",
        "            str: \"HH:MM:SS,mmm\" formatında süre.\n",
        "        \"\"\"\n",
        "        # Convert seconds to hours, minutes, seconds, milliseconds format\n",
        "        hours, remainder = divmod(seconds, 3600)\n",
        "        minutes, remainder = divmod(remainder, 60)\n",
        "        seconds, milliseconds = divmod(remainder, 1)\n",
        "        return f\"{int(hours):02d}:{int(minutes):02d}:{int(seconds):02d},{int(milliseconds*1000):03d}\"\n",
        "\n",
        "    with open(output_filename, 'w') as f:\n",
        "        for i, entry in enumerate(data, start=1):\n",
        "            # Her bir girdi için başlangıç ve bitiş zamanlarını formatla\n",
        "            start_time = format_time(entry['start'])\n",
        "            end_time = format_time(entry['end'])\n",
        "            # Altyazı metnini al\n",
        "            subtitle_text = entry['word']\n",
        "            # SRT formatında dosyaya yaz\n",
        "            f.write(f\"{i}\\n\")  # Sıra numarası\n",
        "            f.write(f\"{start_time} --> {end_time}\\n\")  # Başlangıç ve bitiş zamanları\n",
        "            f.write(f\"{subtitle_text}\\n\\n\")  # Altyazı metni"
      ],
      "metadata": {
        "id": "fUZh_1LUM_d6"
      },
      "execution_count": null,
      "outputs": []
    },
    {
      "cell_type": "markdown",
      "source": [
        "# Search Functions"
      ],
      "metadata": {
        "id": "FKj4Hm3nMQOt"
      }
    },
    {
      "cell_type": "code",
      "source": [
        "def find_word_in_srt(search_word, srt_file_path=\"transcription.srt\"):\n",
        "    \"\"\"\n",
        "    Bir SRT dosyasında aranan kelimenin geçtiği tüm satırları bulur.\n",
        "    - search_word: Aranacak kelime (string).\n",
        "    - srt_file_path: SRT dosyasının yolu (string). Varsayılan değer 'transcription.srt'.\n",
        "    - Büyük/küçük harf duyarlılığı olmadan arama yapılır.\n",
        "    - Kelime tam eşleşmesi aranır (kelimenin tam olarak geçtiği yerler döndürülür).\n",
        "    - Bulunan satırların temizlenmiş hali (başında/sonunda boşluk olmadan) döndürülür.\n",
        "    \"\"\"\n",
        "    search_word = search_word.lower()  # Arama kelimesini küçük harfe çevir\n",
        "    matches = []  # Eşleşmeleri saklamak için boş liste\n",
        "\n",
        "    with open(srt_file_path, 'r', encoding='utf-8') as file:  # SRT dosyasını oku\n",
        "        for line in file:  # Dosyayı satır satır oku\n",
        "            line_lower = line.lower()  # Satırı küçük harfe çevir\n",
        "            # Aranan kelimenin tam eşleşmesini ara (kelime sınırları içinde)\n",
        "            if re.search(r'\\b' + re.escape(search_word) + r'\\b', line_lower):\n",
        "                matches.append(line.strip())  # Eşleşen satırı listeye ekle\n",
        "\n",
        "    return matches  # Eşleşen satırları döndür\n",
        "\n",
        "def find_word_and_timestamp_in_srt(search_word, srt_file_path=\"transcription.srt\"):\n",
        "    \"\"\"\n",
        "    Aranan kelimenin geçtiği yerleri ve karşılık gelen zaman bilgilerini SRT dosyasından bulur.\n",
        "    - search_word: Aranacak kelime (string).\n",
        "    - srt_file_path: SRT dosyasının yolu (string). Varsayılan değer 'transcription.srt'.\n",
        "    - Büyük/küçük harf duyarlılığı olmadan arama yapılır.\n",
        "    - Kelimenin geçtiği yerler ve ilgili zaman damgaları bir liste olarak döndürülür.\n",
        "    \"\"\"\n",
        "    search_word = search_word.lower()  # Arama kelimesini küçük harfe çevir\n",
        "    results = []  # Sonuçları saklamak için boş liste\n",
        "\n",
        "    with open(srt_file_path, 'r', encoding='utf-8') as file:\n",
        "        content = file.read()  # Dosyanın tamamını oku\n",
        "\n",
        "    subtitles = re.split(r'\\n\\n+', content)  # Alt yazı bloklarına ayır\n",
        "\n",
        "    for subtitle in subtitles:  # Her alt yazı bloğu için\n",
        "        lines = subtitle.split('\\n')  # Alt yazıyı satırlara ayır\n",
        "        if len(lines) < 3:  # Geçersiz alt yazı kontrolü\n",
        "            continue\n",
        "\n",
        "        time_info = lines[1]  # Zaman bilgisini al\n",
        "        text = ' '.join(lines[2:]).lower()  # Metni birleştir ve küçük harfe çevir\n",
        "\n",
        "        # Aranan kelimenin tam eşleşmesini metinde ara\n",
        "        if re.search(r'\\b' + re.escape(search_word) + r'\\b', text):\n",
        "            results.append((time_info, '\\n'.join(lines[2:])))  # Zaman bilgisi ve metni sonuçlara ekle\n",
        "\n",
        "    return results  # Sonuçları döndür\n",
        "\n",
        "def time_to_seconds(time_str):\n",
        "    \"\"\"\n",
        "    Zaman damgasını (string) saniye cinsinden sayıya dönüştürür.\n",
        "    - time_str: 'saat:dakika:saniye' formatında zaman damgası (string).\n",
        "    - Dönüş değeri: Zamanın saniye cinsinden karşılığı (int).\n",
        "    \"\"\"\n",
        "    hours, minutes, seconds = [int(part) for part in time_str.split(':')[0:3]]  # Zamanı parçalara ayır ve int'e çevir\n",
        "    seconds += 60 * minutes + 3600 * hours  # Toplam saniyeyi hesapla\n",
        "    return seconds  # Saniye cinsinden değeri döndür\n",
        "\n",
        "def find_word_and_seconds_in_srt(search_word, srt_file_path=\"transcription.srt\"):\n",
        "    \"\"\"\n",
        "    Aranan kelimenin geçtiği yerlerin zamanlarını saniye cinsinden bulur.\n",
        "    - search_word: Aranacak kelime (string).\n",
        "    - srt_file_path: SRT dosyasının yolu (string). Varsayılan değer 'transcription.srt'.\n",
        "    - Büyük/küçük harf duyarlılığı olmadan arama yapılır.\n",
        "    - Kelimenin geçtiği zamanlar (saniye cinsinden) bir liste olarak döndürülür.\n",
        "    \"\"\"\n",
        "    search_word = search_word.lower()  # Arama kelimesini küçük harfe çevir\n",
        "    seconds_list = []  # Zamanları saklamak için boş liste\n",
        "\n",
        "    with open(srt_file_path, 'r', encoding='utf-8') as file:\n",
        "        content = file.read()  # Dosyanın tamamını oku\n",
        "\n",
        "    subtitles = re.split(r'\\n\\n+', content)  # Alt yazı bloklarına ayır\n",
        "\n",
        "    for subtitle in subtitles:  # Her alt yazı bloğu için\n",
        "        lines = subtitle.split('\\n')  # Alt yazıyı satırlara ayır\n",
        "        if len(lines) < 3:  # Geçersiz alt yazı kontrolü\n",
        "            continue\n",
        "\n",
        "        time_info = lines[1]  # Zaman bilgisini al\n",
        "        text = ' '.join(lines[2:]).lower()  # Metni birleştir ve küçük harfe çevir\n",
        "\n",
        "        # Aranan kelimenin tam eşleşmesini metinde ara\n",
        "        if re.search(r'\\b' + re.escape(search_word) + r'\\b', text):\n",
        "            start_time_str = time_info.split(' --> ')[0]  # Başlangıç zamanını al\n",
        "            start_seconds = time_to_seconds(start_time_str.split(',')[0])  # Başlangıç zamanını saniyeye çevir\n",
        "            seconds_list.append(start_seconds)  # Saniye cinsinden zamanı listeye ekle\n",
        "\n",
        "    return seconds_list  # Zaman listesini döndür"
      ],
      "metadata": {
        "id": "03GAAwjQMQeH"
      },
      "execution_count": null,
      "outputs": []
    },
    {
      "cell_type": "markdown",
      "source": [
        "# t"
      ],
      "metadata": {
        "id": "vtQ441ltPjlx"
      }
    },
    {
      "cell_type": "code",
      "source": [
        "deepgramapiKey = getpass('Enter your deepgram API key: ')"
      ],
      "metadata": {
        "id": "SubVLqFpRdMI"
      },
      "execution_count": null,
      "outputs": []
    },
    {
      "cell_type": "code",
      "source": [
        "soundFile = extract_sound_file(FILENAME)"
      ],
      "metadata": {
        "id": "iyI5MqFwPjtU"
      },
      "execution_count": null,
      "outputs": []
    },
    {
      "cell_type": "code",
      "source": [
        "output = uploadFileAndGetTranscription(soundFile, deepgramapiKey)"
      ],
      "metadata": {
        "id": "nwsG44lIQlXb"
      },
      "execution_count": null,
      "outputs": []
    },
    {
      "cell_type": "code",
      "source": [
        "print(output)"
      ],
      "metadata": {
        "id": "5UYdyW_tSynk"
      },
      "execution_count": null,
      "outputs": []
    },
    {
      "cell_type": "code",
      "source": [
        "# Birinci Kod Parçası: Transkripti Yazdırma\n",
        "# 'output' değişkeninden, ses tanıma sonucu elde edilen transkripti yazdırır.\n",
        "# Bu kod, 'output' sözlüğündeki belirli bir yolu izleyerek, tanıma sonucu elde edilen metni alır ve yazdırır.\n",
        "pprint(output['results']['channels'][0]['alternatives'][0]['transcript'])\n",
        "\n",
        "# İkinci Kod Parçası: Kelime Detaylarını Yazdırma\n",
        "# 'output' değişkeninden, ses tanıma sonucu elde edilen kelime detaylarını yazdırır.\n",
        "# Bu kod, her bir kelimenin başlangıç zamanı, bitiş zamanı ve transkript içindeki kelimeyi içeren detaylı bilgileri alır ve yazdırır.\n",
        "pprint(output['results']['channels'][0]['alternatives'][0]['words'])"
      ],
      "metadata": {
        "id": "xHGN1cHORr6f"
      },
      "execution_count": null,
      "outputs": []
    },
    {
      "cell_type": "code",
      "source": [
        "# 'output' değişkeninden kelime düzeyi zaman damgalarını içeren veriyi al\n",
        "subtitle_data = output['results']['channels'][0]['alternatives'][0]['words']\n",
        "\n",
        "# URL'den dosya adını çıkar\n",
        "filename = os.path.basename(soundFile)\n",
        "name, extension = os.path.splitext(filename)\n",
        "\n",
        "# .srt uzantılı bir alt yazı dosyası adı oluştur\n",
        "output_filename = name + \".srt\"\n",
        "\n",
        "# Oluşturulan veriyi kullanarak bir alt yazı (.srt) dosyası oluştur\n",
        "convert_to_srt(subtitle_data, output_filename)"
      ],
      "metadata": {
        "id": "rbvqTN6GRsEN"
      },
      "execution_count": null,
      "outputs": []
    },
    {
      "cell_type": "markdown",
      "source": [
        "# Search"
      ],
      "metadata": {
        "id": "hA9r8ptpPkPe"
      }
    },
    {
      "cell_type": "code",
      "source": [
        "\n",
        "# Belirtilen kelimenin SRT dosyasındaki geçtiği satırları bul\n",
        "matches = find_word_in_srt(SEARCH, \"siyasi.srt\")\n",
        "\n",
        "# Eğer eşleşme bulunduysa\n",
        "if matches:\n",
        "    print(f\"'{SEARCH}' kelimesinin bulunduğu satırlar:\")\n",
        "    # Her eşleşmeyi ekrana yazdır\n",
        "    for match in matches:\n",
        "        print(match)\n",
        "else:\n",
        "    # Eğer eşleşme bulunamadıysa\n",
        "    print(f\"'{SEARCH}' kelimesi bulunamadı.\")"
      ],
      "metadata": {
        "id": "Jd3-eMm4PkWw"
      },
      "execution_count": null,
      "outputs": []
    },
    {
      "cell_type": "code",
      "source": [
        "# Belirtilen kelimenin SRT dosyasındaki saniyelerini bul\n",
        "seconds_list = find_word_and_seconds_in_srt(SEARCH, \"siyasi.srt\")\n",
        "\n",
        "def sn_to_dk(num):\n",
        "  dk = int(num/60)\n",
        "  sn = num - (dk*60)\n",
        "  return(f\"{dk}.{sn}\")\n",
        "\n",
        "# Eğer saniyeler bulunduysa\n",
        "if seconds_list:\n",
        "    print(f\"'{SEARCH}' kelimesinin bulunduğu dakikalar:\")\n",
        "    # Her bir saniyeyi ekrana yazdır\n",
        "    for seconds in seconds_list:\n",
        "      if seconds >= 60:\n",
        "        print(f\"[INFO] {sn_to_dk(seconds)} dk\")\n",
        "      else:\n",
        "        print(f\"[INFO] {seconds} sn\")\n",
        "else:\n",
        "    # Eğer saniyeler bulunamadıysa\n",
        "    print(f\"'{SEARCH}' kelimesi bulunamadı.\")"
      ],
      "metadata": {
        "id": "0mr_w7YvWUyF"
      },
      "execution_count": null,
      "outputs": []
    },
    {
      "cell_type": "code",
      "source": [
        "# Belirtilen kelimenin SRT dosyasındaki zamanlar ve satırlarını bul\n",
        "matches = find_word_and_timestamp_in_srt(SEARCH, \"siyasi.srt\")\n",
        "\n",
        "# Eğer eşleşme bulunduysa\n",
        "if matches:\n",
        "    print(f\"'{SEARCH}' kelimesinin bulunduğu zamanlar ve satırlar:\")\n",
        "    for time_info, match in matches:\n",
        "        # Zaman bilgisini ve eşleşen metni ekrana yazdır\n",
        "        print(f\"Zaman: {time_info}\")\n",
        "        print(f\"Metin: {match}\\n\")\n",
        "else:\n",
        "    # Eğer eşleşme bulunamadıysa\n",
        "    print(f\"'{SEARCH}' kelimesi bulunamadı.\")"
      ],
      "metadata": {
        "id": "uLS9HnxQWTsM"
      },
      "execution_count": null,
      "outputs": []
    }
  ]
}