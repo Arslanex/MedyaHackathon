{
  "nbformat": 4,
  "nbformat_minor": 0,
  "metadata": {
    "colab": {
      "provenance": []
    },
    "kernelspec": {
      "name": "python3",
      "display_name": "Python 3"
    },
    "language_info": {
      "name": "python"
    }
  },
  "cells": [
    {
      "cell_type": "markdown",
      "source": [
        "# Konfigrasyon"
      ],
      "metadata": {
        "id": "DNWMVAosQ1OY"
      }
    },
    {
      "cell_type": "code",
      "source": [
        "FILENAME = \"siyasi.mp4\"\n",
        "\n",
        "# Altyazı Parametreleri\n",
        "font = \"Helvetica\"\n",
        "color='white'\n",
        "highlight_color='yellow'\n",
        "stroke_color='black'\n",
        "stroke_width=1.5\n"
      ],
      "metadata": {
        "id": "kj5CpQP1Q1Fy"
      },
      "execution_count": null,
      "outputs": []
    },
    {
      "cell_type": "markdown",
      "source": [
        "# Gerekli Kütüphane ve Program Kurulumları"
      ],
      "metadata": {
        "id": "S8L1TtZtQ04n"
      }
    },
    {
      "cell_type": "code",
      "source": [
        "!pip install --quiet srt_file_translator\n",
        "\n",
        "!pip install --quiet ipython-autotime\n",
        "%load_ext autotime\n",
        "\n",
        "!pip install --quiet moviepy==2.0.0.dev2\n",
        "!pip install --quiet imageio==2.25.1\n",
        "!pip install --quiet ffmpeg-python==0.2.0\n",
        "!pip install --quiet faster-whisper==0.7.0\n",
        "!pip install --quiet python-docx"
      ],
      "metadata": {
        "id": "uHxyAG6Lro45"
      },
      "execution_count": null,
      "outputs": []
    },
    {
      "cell_type": "code",
      "source": [
        "!apt install  imagemagick\n",
        "!cat /etc/ImageMagick-6/policy.xml | sed 's/none/read,write/g'> /etc/ImageMagick-6/policy.xml"
      ],
      "metadata": {
        "id": "tjeNC8wjP3wS"
      },
      "execution_count": null,
      "outputs": []
    },
    {
      "cell_type": "markdown",
      "source": [
        "# Core Functions\n"
      ],
      "metadata": {
        "id": "mb82AYKHqsie"
      }
    },
    {
      "cell_type": "code",
      "source": [
        "from faster_whisper import WhisperModel\n",
        "import ffmpeg\n",
        "import json\n",
        "from docx import Document\n",
        "import re\n",
        "from moviepy.editor import TextClip, CompositeVideoClip, concatenate_videoclips,VideoFileClip, ColorClip\n",
        "import numpy as np"
      ],
      "metadata": {
        "id": "Sdl2yp0SprlT"
      },
      "execution_count": null,
      "outputs": []
    },
    {
      "cell_type": "code",
      "execution_count": null,
      "metadata": {
        "id": "KV-x8rZHpWpX"
      },
      "outputs": [],
      "source": [
        "#\n",
        "def extract_sound_file(fileName):\n",
        "    # MP4 dosya adını MP3 formatına dönüştür\n",
        "    audiofilename = fileName.replace(\".mp4\", '.mp3')\n",
        "\n",
        "    # ffmpeg ile dosyayı okumak için giriş akışı oluştur\n",
        "    input_stream = ffmpeg.input(fileName)\n",
        "\n",
        "    # Giriş akışından sadece ses verisini al\n",
        "    audio = input_stream.audio\n",
        "\n",
        "    # Çıktı olarak kullanılacak ses dosyasını ve adını ayarla\n",
        "    output_stream = ffmpeg.output(audio, audiofilename)\n",
        "\n",
        "    # Eğer hedef dosya zaten varsa üzerine yaz\n",
        "    output_stream = ffmpeg.overwrite_output(output_stream)\n",
        "\n",
        "    # ffmpeg işlemini başlat ve ses dosyasını oluştur\n",
        "    ffmpeg.run(output_stream)\n",
        "\n",
        "    # Oluşturulan ses dosyasının adını döndür\n",
        "    return audiofilename\n",
        "\n",
        "#\n",
        "# Belirli bir model boyutu için WhisperModel yükler.\n",
        "# `model_size` parametresi modelin boyutunu belirler (varsayılan olarak \"medium\").\n",
        "def load_model(model_size=\"medium\"):\n",
        "    # İstenen boyutta bir Whisper modeli oluşturur ve döndürür.\n",
        "    return WhisperModel(model_size)\n",
        "\n",
        "#\n",
        "# Verilen model ve ses dosyası adı kullanılarak ses dosyasından segmentler oluşturur.\n",
        "# `model` parametresi, transkripsiyon yapmak için kullanılacak modeli,\n",
        "# `audiofilename` parametresi ise transkribe edilecek ses dosyasının adını belirtir.\n",
        "def create_segments(model, audiofilename):\n",
        "    # Modelin `transcribe` metodunu çağırarak ses dosyasını transkribe eder.\n",
        "    # `word_timestamps=True` argümanı, her kelimenin başlangıç ve bitiş zaman damgalarını döndürür.\n",
        "    segments, info = model.transcribe(audiofilename, word_timestamps=True)\n",
        "    # Oluşturulan segmentleri döndürür.\n",
        "    return segments\n",
        "\n",
        "#\n",
        "# Transkribe edilen segmentleri yazdırır.\n",
        "# `segments` parametresi, transkribe edilen kelimelerin segmentlerini içerir.\n",
        "def print_segments(segments):\n",
        "    # Segmentleri liste olarak işler.\n",
        "    segments = list(segments)\n",
        "    # Her bir segment ve içerdiği kelimeler üzerinde döngü yapar.\n",
        "    for segment in segments:\n",
        "        for word in segment.words:\n",
        "            # Her kelimenin başlangıç ve bitiş zamanlarını ve kelimenin kendisini yazdırır.\n",
        "            print(\"[%.2fs -> %.2fs] %s\" % (word.start, word.end, word.word))\n",
        "\n",
        "#\n",
        "# Transkribe edilmiş segmentlerden kelime düzeyinde bilgileri işler.\n",
        "# `segments` parametresi, transkribe edilen kelimelerin segmentlerini içerir.\n",
        "def process(segments):\n",
        "    segments = list(segments)  # Segmentleri liste olarak işler.\n",
        "\n",
        "    wordlevel_info = []\n",
        "    # Her bir segment ve içerdiği kelimeler üzerinde döngü yapar.\n",
        "    for segment in segments:\n",
        "        for word in segment.words:\n",
        "            # Her kelimenin metnini, başlangıç ve bitiş zamanlarını içeren bir sözlük oluşturur.\n",
        "            wordlevel_info.append({'word': word.word, 'start': word.start, 'end': word.end})\n",
        "\n",
        "    # İşlenmiş kelime düzeyinde bilgileri döndürür.\n",
        "    return wordlevel_info\n",
        "\n",
        "#\n",
        "# Verilen veriyi JSON formatında bir dosyaya kaydeder.\n",
        "# `data` parametresi, JSON'a dönüştürülecek veriyi içerir.\n",
        "def dump_json(data):\n",
        "    # 'data.json' adında bir dosya oluşturur ve yazma modunda açar.\n",
        "    with open('data.json', 'w') as f:\n",
        "        # Veriyi JSON formatında dosyaya yazar. İndentasyon ile okunabilirliği artırır.\n",
        "        json.dump(data, f, indent=4)\n",
        "\n",
        "#\n",
        "# Bir JSON dosyasını okur ve içeriğini döndürür.\n",
        "# `fileName` parametresi, okunacak JSON dosyasının adını belirtir (varsayılan olarak 'data.json').\n",
        "def read_json(fileName='data.json'):\n",
        "    # Belirtilen dosyayı okuma modunda açar.\n",
        "    with open(fileName, 'r') as f:\n",
        "        # Dosya içeriğini JSON olarak yükler ve bir değişkene atar.\n",
        "        wordlevel_info_modified = json.load(f)\n",
        "\n",
        "    # Yüklenen veriyi döndürür.\n",
        "    return wordlevel_info_modified\n",
        "\n",
        "#\n",
        "# Alt yazıyı satrı satır forma çevirmek için\n",
        "def split_text_into_lines(data):\n",
        "    MaxChars = 30  # Bir satırdaki maksimum karakter sayısı.\n",
        "    MaxDuration = 2.5  # Bir satırın maksimum süresi (saniye cinsinden).\n",
        "    MaxGap = 1.5  # İki kelime arasındaki maksimum boşluk süresi (saniye cinsinden).\n",
        "\n",
        "    subtitles = []  # Sonuç alt yazı satırlarını saklamak için liste.\n",
        "    line = []  # Geçici olarak kelimeleri saklamak için kullanılan liste.\n",
        "    line_duration = 0  # Geçici satırın toplam süresi.\n",
        "    line_chars = 0  # Açıklama gereksiz, kullanılmıyor.\n",
        "\n",
        "    for idx, word_data in enumerate(data):  # Girdi verisindeki her kelime için döngü.\n",
        "        word = word_data[\"word\"]\n",
        "        start = word_data[\"start\"]\n",
        "        end = word_data[\"end\"]\n",
        "\n",
        "        line.append(word_data)  # Geçici satıra kelime eklenir.\n",
        "        line_duration += end - start  # Geçici satırın süresi güncellenir.\n",
        "\n",
        "        temp = \" \".join(item[\"word\"] for item in line)  # Geçici satırdaki kelimeler birleştirilir.\n",
        "\n",
        "        # Yeni bir kelime eklenmesiyle karakter sayısı veya süre sınırını aşılıp aşılmadığının kontrolü.\n",
        "        new_line_chars = len(temp)\n",
        "        duration_exceeded = line_duration > MaxDuration\n",
        "        chars_exceeded = new_line_chars > MaxChars\n",
        "\n",
        "        # İki kelime arasındaki boşluk süresinin kontrolü.\n",
        "        if idx > 0:\n",
        "            gap = word_data['start'] - data[idx-1]['end']\n",
        "            maxgap_exceeded = gap > MaxGap\n",
        "        else:\n",
        "            maxgap_exceeded = False  # İlk kelime için boşluk süresi kontrolü yapılmaz.\n",
        "\n",
        "        # Karakter sayısı, süre veya boşluk süresi sınırı aşıldıysa, geçici satır sonlandırılır.\n",
        "        if duration_exceeded or chars_exceeded or maxgap_exceeded:\n",
        "            if line:  # Eğer geçici satır boş değilse, sonuç listesine eklenir.\n",
        "                subtitle_line = {\n",
        "                    \"word\": \" \".join(item[\"word\"] for item in line),\n",
        "                    \"start\": line[0][\"start\"],\n",
        "                    \"end\": line[-1][\"end\"],\n",
        "                    \"textcontents\": line\n",
        "                }\n",
        "                subtitles.append(subtitle_line)\n",
        "                line = []  # Geçici satır sıfırlanır.\n",
        "                line_duration = 0\n",
        "\n",
        "    # Döngü bittiğinde, kalan son satır (varsa) sonuç listesine eklenir.\n",
        "    if line:\n",
        "        subtitle_line = {\n",
        "            \"word\": \" \".join(item[\"word\"] for item in line),\n",
        "            \"start\": line[0][\"start\"],\n",
        "            \"end\": line[-1][\"end\"],\n",
        "            \"textcontents\": line\n",
        "        }\n",
        "        subtitles.append(subtitle_line)\n",
        "\n",
        "    # Altyazıları döndür\n",
        "    return subtitles\n",
        "\n",
        "#\n",
        "# Bu fonksiyonu, metin tabanlı JSON verisini kullanarak, bir video içerisinde altyazılar oluşturmak üzere metin klip nesneleri dizisi üretir.\n",
        "def create_caption(textJSON, framesize,font=font,color=color, highlight_color=highlight_color,stroke_color=stroke_color,stroke_width=stroke_width):\n",
        "    wordcount = len(textJSON['textcontents'])  # JSON'da bulunan kelime sayısı.\n",
        "    full_duration = textJSON['end'] - textJSON['start']  # Altyazının toplam süresi.\n",
        "\n",
        "    word_clips = []  # Oluşturulan metin kliplerini saklamak için liste.\n",
        "    xy_textclips_positions = []  # Metin kliplerinin pozisyon bilgilerini saklamak için liste.\n",
        "\n",
        "    # Başlangıç pozisyonları ve satır genişliği.\n",
        "    x_pos = 0\n",
        "    y_pos = 0\n",
        "    line_width = 0\n",
        "    frame_width, frame_height = framesize\n",
        "\n",
        "    x_buffer = frame_width * 0.1  # Çerçevenin kenarlarından boşluk.\n",
        "    max_line_width = frame_width - 2 * x_buffer  # Maksimum satır genişliği.\n",
        "\n",
        "    fontsize = int(frame_height * 0.075)  # Font boyutu, video yüksekliğinin %7.5'i olarak ayarlanır.\n",
        "\n",
        "    for index, wordJSON in enumerate(textJSON['textcontents']):\n",
        "        duration = wordJSON['end'] - wordJSON['start']  # Kelimenin süresi.\n",
        "        # Her kelime için bir metin klipi oluşturulur.\n",
        "        word_clip = TextClip(wordJSON['word'], font=font, fontsize=fontsize, color=color, stroke_color=stroke_color, stroke_width=stroke_width).set_start(textJSON['start']).set_duration(full_duration)\n",
        "        word_clip_space = TextClip(\" \", font=font, fontsize=fontsize, color=color).set_start(textJSON['start']).set_duration(full_duration)\n",
        "        word_width, word_height = word_clip.size  # Metin klipinin boyutları.\n",
        "        space_width, space_height = word_clip_space.size  # Boşluk klipinin boyutları.\n",
        "\n",
        "        # Yeni kelimenin mevcut satıra sığdırılması veya yeni bir satıra geçilmesi.\n",
        "        if line_width + word_width + space_width <= max_line_width:\n",
        "            xy_textclips_positions.append({\n",
        "                \"x_pos\": x_pos,\n",
        "                \"y_pos\": y_pos,\n",
        "                \"width\": word_width,\n",
        "                \"height\": word_height,\n",
        "                \"word\": wordJSON['word'],\n",
        "                \"start\": wordJSON['start'],\n",
        "                \"end\": wordJSON['end'],\n",
        "                \"duration\": duration\n",
        "            })\n",
        "            word_clip = word_clip.set_position((x_pos, y_pos))\n",
        "            x_pos += word_width + space_width  # X pozisyonunu güncelle.\n",
        "            line_width += word_width + space_width  # Satır genişliğini güncelle.\n",
        "        else:\n",
        "            # Yeni satıra geçiş yapılır.\n",
        "            x_pos = 0\n",
        "            y_pos += word_height + 10  # Y pozisyonunu güncelle.\n",
        "            line_width = word_width + space_width  # Satır genişliğini sıfırla.\n",
        "\n",
        "            xy_textclips_positions.append({\n",
        "                \"x_pos\": x_pos,\n",
        "                \"y_pos\": y_pos,\n",
        "                \"width\": word_width,\n",
        "                \"height\": word_height,\n",
        "                \"word\": wordJSON['word'],\n",
        "                \"start\": wordJSON['start'],\n",
        "                \"end\": wordJSON['end'],\n",
        "                \"duration\": duration\n",
        "            })\n",
        "            word_clip = word_clip.set_position((x_pos, y_pos))\n",
        "            x_pos += word_width + space_width  # X pozisyonunu güncelle.\n",
        "\n",
        "        word_clips.append(word_clip)\n",
        "        word_clips.append(word_clip_space)  # Boşluk klipi de eklenir.\n",
        "\n",
        "    # Vurgulanan kelimeler için ayrı metin klipleri oluşturulur.\n",
        "    for highlight_word in xy_textclips_positions:\n",
        "        word_clip_highlight = TextClip(highlight_word['word'], font=font, fontsize=fontsize, color=highlight_color, stroke_color=stroke_color, stroke_width=stroke_width).set_start(highlight_word['start']).set_duration(highlight_word['duration'])\n",
        "        word_clip_highlight = word_clip_highlight.set_position((highlight_word['x_pos'], highlight_word['y_pos']))\n",
        "        word_clips.append(word_clip_highlight)  # Vurgulanan kelime klipleri listeye eklenir.\n",
        "\n",
        "    return word_clips, xy_textclips_positions"
      ]
    },
    {
      "cell_type": "markdown",
      "source": [
        "# Dönüşüm Fonksiyonları"
      ],
      "metadata": {
        "id": "azmesMZaRLzM"
      }
    },
    {
      "cell_type": "code",
      "source": [
        "#\n",
        "def segments_to_srt(segments, output_filename):\n",
        "    # Dosyayı yazma modunda aç ve UTF-8 olarak kodla\n",
        "    with open(output_filename, 'w', encoding='utf-8') as file:\n",
        "        # Segment listesindeki her bir segment için döngü başlat\n",
        "        for i, segment in enumerate(segments, start=1):\n",
        "            # Segmentin başlangıç ve bitiş zamanını al\n",
        "            start = segment[\"start\"]\n",
        "            end = segment[\"end\"]\n",
        "            # Zamanları SRT formatına uygun şekilde formatla\n",
        "            start_srt = \"%02d:%02d:%02d,%03d\" % (int(start / 3600), int(start / 60 % 60), int(start % 60), int(start * 1000 % 1000))\n",
        "            end_srt = \"%02d:%02d:%02d,%03d\" % (int(end / 3600), int(end / 60 % 60), int(end % 60), int(end * 1000 % 1000))\n",
        "            # Sıra numarası, formatlanmış zaman aralığı ve segment metnini dosyaya yaz\n",
        "            file.write(f\"{i}\\n\")\n",
        "            file.write(f\"{start_srt} --> {end_srt}\\n\")\n",
        "            file.write(f\"{segment['word']}\\n\\n\")  # Segment metni\n",
        "\n",
        "#\n",
        "def srt_to_docx(srt_file_path=\"transcription.srt\", docx_file_path=\"transcription.docx\"):\n",
        "    # Yeni bir Word belgesi oluştur\n",
        "    doc = Document()\n",
        "\n",
        "    # SRT dosyasından okunan tüm metinleri birleştirmek için boş bir string\n",
        "    full_text = ''\n",
        "\n",
        "    # SRT dosyasını oku ve içeriğini bir değişkene ata\n",
        "    with open(srt_file_path, 'r', encoding='utf-8') as file:\n",
        "        srt_content = file.read()\n",
        "\n",
        "    # SRT içeriğini alt yazı girişlerine ayır\n",
        "    subtitles = re.split(r'\\n\\n+', srt_content)\n",
        "\n",
        "    # Her alt yazı girişini işle ve tam metni oluştur\n",
        "    for subtitle in subtitles:\n",
        "        # Zaman damgalarını atla ve sadece metin kısmını al\n",
        "        lines = subtitle.split('\\n')[2:]\n",
        "        # Metin satırlarını birleştir\n",
        "        subtitle_text = ' '.join(lines)\n",
        "        # Tam metni güncelle\n",
        "        full_text += subtitle_text + ' '\n",
        "\n",
        "    # Tam metni Word belgesine ekle\n",
        "    doc.add_paragraph(full_text)\n",
        "\n",
        "    # Word belgesini kaydet\n",
        "    doc.save(docx_file_path)\n",
        "\n",
        "#\n",
        "def seconds_to_srt_time(seconds):\n",
        "    \"\"\"Saniye cinsinden zamanı saat:dakika:saniye,milisaniye formatına çevir.\"\"\"\n",
        "    # Saniyeyi saat, dakika, saniye ve milisaniyeye çevir\n",
        "    ms = int((seconds - int(seconds)) * 1000)\n",
        "    h = int(seconds // 3600)\n",
        "    m = int((seconds % 3600) // 60)\n",
        "    s = int(seconds % 60)\n",
        "    # Formatlanmış zamanı döndür\n",
        "    return f\"{h:02}:{m:02}:{s:02},{ms:03}\"\n",
        "\n",
        "def format_to_srt(data):\n",
        "    \"\"\"JSON verisini SRT formatına dönüştür.\"\"\"\n",
        "    srt_content = \"\"\n",
        "    for index, item in enumerate(data, start=1):\n",
        "        # Başlangıç ve bitiş zamanlarını SRT zaman formatına çevir\n",
        "        start_time = seconds_to_srt_time(item['start'])\n",
        "        end_time = seconds_to_srt_time(item['end'])\n",
        "        # Kelimeyi al ve boşlukları temizle\n",
        "        word = item['word'].strip()\n",
        "        # SRT içeriğini oluştur\n",
        "        srt_content += f\"{index}\\n{start_time} --> {end_time}\\n{word}\\n\\n\"\n",
        "    return srt_content\n",
        "\n",
        "def json_to_srt(json_file=\"data.json\", output_filename=\"transcription.srt\"):\n",
        "    \"\"\"JSON dosyasını oku ve içeriği SRT dosyasına yaz.\"\"\"\n",
        "    # JSON dosyasını oku\n",
        "    with open(json_file, 'r') as file:\n",
        "        data = json.load(file)\n",
        "\n",
        "    # Veriyi SRT formatına dönüştür\n",
        "    srt_content = format_to_srt(data)\n",
        "\n",
        "    # Dönüştürülen içeriği SRT dosyasına yaz\n",
        "    with open(output_filename, 'w', encoding='utf-8') as srt_file:\n",
        "        srt_file.write(srt_content)"
      ],
      "metadata": {
        "id": "uTnBqBSM07oo"
      },
      "execution_count": null,
      "outputs": []
    },
    {
      "cell_type": "markdown",
      "source": [
        "# Runtime"
      ],
      "metadata": {
        "id": "UEZWh8EPRRJR"
      }
    },
    {
      "cell_type": "code",
      "source": [
        "soundFile = extract_sound_file(FILENAME)  # ses dosyasını oluştur"
      ],
      "metadata": {
        "id": "7vvlbQJmRVTr"
      },
      "execution_count": null,
      "outputs": []
    },
    {
      "cell_type": "code",
      "source": [
        "model = load_model() # modeli içe aktarıyoruz"
      ],
      "metadata": {
        "id": "UkjSJVTzq2Br"
      },
      "execution_count": null,
      "outputs": []
    },
    {
      "cell_type": "code",
      "source": [
        "segments = create_segments(model, soundFile) # # Modelden ses üzerinde gelen segmentleri alıyoruz"
      ],
      "metadata": {
        "id": "CJQ_56BGRXQU"
      },
      "execution_count": null,
      "outputs": []
    },
    {
      "cell_type": "code",
      "source": [
        "wli = process(segments) # segmentleri işliyoruz, bu sırasda orjinal dilde .srt dosyası oluşturyuyoruz"
      ],
      "metadata": {
        "id": "tKkZ7QToRYAy"
      },
      "execution_count": null,
      "outputs": []
    },
    {
      "cell_type": "code",
      "source": [
        "dump_json(wli) # json dosyasına kayıt etme"
      ],
      "metadata": {
        "id": "0fDKd-L9rJ41"
      },
      "execution_count": null,
      "outputs": []
    },
    {
      "cell_type": "code",
      "source": [
        "data = read_json() # json dosyasında okuma"
      ],
      "metadata": {
        "id": "Juk-vcxGRaRn"
      },
      "execution_count": null,
      "outputs": []
    },
    {
      "cell_type": "code",
      "source": [
        "subtitles = split_text_into_lines(data) # alt yazıları işle"
      ],
      "metadata": {
        "id": "fVF9Msaorf-y"
      },
      "execution_count": null,
      "outputs": []
    },
    {
      "cell_type": "code",
      "source": [
        "for line in subtitles:\n",
        "  json_str = json.dumps(line, indent=4)\n",
        "  print(json_str)"
      ],
      "metadata": {
        "id": "IrfTTHPYRb1_"
      },
      "execution_count": null,
      "outputs": []
    },
    {
      "cell_type": "code",
      "execution_count": null,
      "metadata": {
        "id": "x8I7n1-h7xFR"
      },
      "outputs": [],
      "source": [
        "# Giriş video dosyasını yükle\n",
        "input_video = VideoFileClip(FILENAME)\n",
        "\n",
        "# Giriş video çerçevesinin boyutunu al\n",
        "frame_size = input_video.size\n",
        "\n",
        "# Tüm alt başlık seviyesi bölümlerini saklamak için boş bir liste oluştur\n",
        "all_linelevel_splits = []\n",
        "\n",
        "# Her alt başlık için işlem yap\n",
        "for line in subtitles:\n",
        "    # Alt başlığı video çerçevesine eklemek için gerekli işlemleri yap\n",
        "    out_clips, positions = create_caption(line, frame_size)\n",
        "\n",
        "    # Alt başlıkların konumlarını ve boyutlarını hesapla\n",
        "    max_width = 0\n",
        "    max_height = 0\n",
        "    for position in positions:\n",
        "        x_pos, y_pos = position['x_pos'], position['y_pos']\n",
        "        width, height = position['width'], position['height']\n",
        "        max_width = max(max_width, x_pos + width)\n",
        "        max_height = max(max_height, y_pos + height)\n",
        "\n",
        "    # Arka plan rengini ve opaklığını ayarla\n",
        "    color_clip = ColorClip(size=(int(max_width * 1.1), int(max_height * 1.1)), color=(64, 64, 64))\n",
        "    color_clip = color_clip.set_opacity(.6)\n",
        "    color_clip = color_clip.set_start(line['start']).set_duration(line['end'] - line['start'])\n",
        "\n",
        "    # Alt başlığı ve arka planı birleştir\n",
        "    clip_to_overlay = CompositeVideoClip([color_clip] + out_clips)\n",
        "    clip_to_overlay = clip_to_overlay.set_position(\"bottom\")\n",
        "\n",
        "    # Oluşturulan bölümü listeye ekle\n",
        "    all_linelevel_splits.append(clip_to_overlay)\n",
        "\n",
        "# Giriş video süresini al\n",
        "input_video_duration = input_video.duration\n",
        "\n",
        "# Nihai videonun oluşturulması\n",
        "final_video = CompositeVideoClip([input_video] + all_linelevel_splits)\n",
        "\n",
        "# Nihai videonun sesini giriş videonun sesiyle aynı yap\n",
        "final_video = final_video.set_audio(input_video.audio)\n",
        "\n",
        "# Sonuç videoyu belirtilen adla kaydet\n",
        "final_video.write_videofile(\"output.mp4\", fps=24, codec=\"libx264\", audio_codec=\"aac\")"
      ]
    },
    {
      "cell_type": "markdown",
      "source": [
        "# Extra Features"
      ],
      "metadata": {
        "id": "a-jel6gP0uVG"
      }
    },
    {
      "cell_type": "code",
      "source": [
        "json_to_srt() # .json dosyasında .srt çıktısı almak için"
      ],
      "metadata": {
        "id": "dGF_ivPH4Im8"
      },
      "execution_count": null,
      "outputs": []
    },
    {
      "cell_type": "markdown",
      "source": [
        "# SRT to Docs"
      ],
      "metadata": {
        "id": "WgjMYwZt1otc"
      }
    },
    {
      "cell_type": "code",
      "source": [
        "srt_to_docx() # .srt dosyasında .dockx çıktısı almak için"
      ],
      "metadata": {
        "id": "zZZOKZQ-1rPo"
      },
      "execution_count": null,
      "outputs": []
    }
  ]
}
