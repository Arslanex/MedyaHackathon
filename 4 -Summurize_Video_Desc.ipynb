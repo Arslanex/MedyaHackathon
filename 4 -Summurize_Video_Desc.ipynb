{
  "nbformat": 4,
  "nbformat_minor": 0,
  "metadata": {
    "colab": {
      "provenance": []
    },
    "kernelspec": {
      "name": "python3",
      "display_name": "Python 3"
    },
    "language_info": {
      "name": "python"
    }
  },
  "cells": [
    {
      "cell_type": "code",
      "source": [
        "# .docx dosyanızın yolu\n",
        "file_path = 'transcription.docx'"
      ],
      "metadata": {
        "id": "1IsBKpEgGmec"
      },
      "execution_count": null,
      "outputs": []
    },
    {
      "cell_type": "code",
      "execution_count": null,
      "metadata": {
        "id": "g_NB3Yi6hpWn"
      },
      "outputs": [],
      "source": [
        "!pip install openai==0.28\n",
        "!pip install --quiet python-docx"
      ]
    },
    {
      "cell_type": "code",
      "source": [
        "import openai\n",
        "from docx import Document\n",
        "\n",
        "# OpenAI API anahtarınızı buraya girin. Bu anahtar, OpenAI API ile etkileşim kurmanızı sağlar.\n",
        "openai.api_key = \"YOUR_OPENAI_API_KEY_HERE\"\n",
        "\n",
        "def read_docx(file_path):\n",
        "    \"\"\"\n",
        "    Verilen dosya yolundaki .docx dosyasını açar ve içeriğini birleştirilmiş bir metin olarak döndürür.\n",
        "\n",
        "    Args:\n",
        "    - file_path (str): Okunacak .docx dosyasının yolu.\n",
        "\n",
        "    Returns:\n",
        "    - str: Dosyadaki tüm paragrafların birleştirilmiş metni.\n",
        "    \"\"\"\n",
        "    doc = Document(file_path)\n",
        "    full_text = []\n",
        "    for para in doc.paragraphs:\n",
        "        full_text.append(para.text)\n",
        "    return '\\n'.join(full_text)\n",
        "\n",
        "def extract_key_points(text):\n",
        "    \"\"\"\n",
        "    Verilen metni analiz eder ve metnin ana fikrini yansıtan 5 anahtar noktayı belirler.\n",
        "\n",
        "    Args:\n",
        "    - text (str): Analiz edilecek metin.\n",
        "\n",
        "    Returns:\n",
        "    - str: Metnin ana fikrini yansıtan 5 anahtar noktanın metni.\n",
        "    \"\"\"\n",
        "    response = openai.ChatCompletion.create(\n",
        "        model=\"gpt-3.5-turbo\",  # Bu model hızlı ve maliyet-etkin\n",
        "        messages=[\n",
        "            {\"role\": \"user\", \"content\": \"Analyze the text below and identify 5 key points that reflect the main idea of the text. Do this in the language of the text. \\n\" + text}\n",
        "        ]\n",
        "    )\n",
        "    return response.choices[0].message['content']\n",
        "\n",
        "def extract_tags(text):\n",
        "    \"\"\"\n",
        "    Verilen metni analiz eder ve metni sınıflandırmayı kolaylaştıracak 5 tek kelimelik etiket çıkarır.\n",
        "\n",
        "    Args:\n",
        "    - text (str): Analiz edilecek metin.\n",
        "\n",
        "    Returns:\n",
        "    - str: Metni sınıflandırmak için seçilen 5 tek kelimelik etiket.\n",
        "    \"\"\"\n",
        "    response = openai.ChatCompletion.create(\n",
        "        model=\"gpt-3.5-turbo\",  # Bu model hızlı ve maliyet-etkin\n",
        "        messages=[\n",
        "            {\"role\": \"system\", \"content\": \"You should analyze the text and come up with 5 one-word tags that will make it easier to classify the text. When choosing the tags, make sure to pay attention to important names, important elements and events, such as war.\"},\n",
        "            {\"role\": \"user\", \"content\": text}\n",
        "        ]\n",
        "    )\n",
        "    return response.choices[0].message['content']\n",
        "\n",
        "def extract_summary(text):\n",
        "    \"\"\"\n",
        "    Verilen metinden, gelecekteki video editörlerinin kullanımı için 250 kelimeyi aşmayacak bir özet oluşturur.\n",
        "\n",
        "    Args:\n",
        "    - text (str): Özetlenecek metin.\n",
        "\n",
        "    Returns:\n",
        "    - str: Metnin özeti.\n",
        "    \"\"\"\n",
        "    response = openai.ChatCompletion.create(\n",
        "        model=\"gpt-3.5-turbo\",  # Bu model hızlı ve maliyet-etkin\n",
        "        messages=[\n",
        "            {\"role\": \"system\", \"content\": \"Analyze the video text you have been given and create a summary in the same language as the text for future video editors who may want to use the video. It should not be more than 250 word\"},\n",
        "            {\"role\": \"user\", \"content\": text}\n",
        "        ]\n",
        "    )\n",
        "    return response.choices[0].message['content']\n"
      ],
      "metadata": {
        "id": "GyL3m-BEkHUW"
      },
      "execution_count": null,
      "outputs": []
    },
    {
      "cell_type": "code",
      "source": [
        "# Dosya içeriğini oku\n",
        "doc_text = read_docx(file_path)"
      ],
      "metadata": {
        "id": "6t4zo3XnGxRA"
      },
      "execution_count": null,
      "outputs": []
    },
    {
      "cell_type": "code",
      "source": [
        "# İçerikten 5 anahtar etiket çıkar\n",
        "key_labels = extract_key_points(doc_text)\n",
        "\n",
        "print(\"Ana Fikir:\")\n",
        "print(key_labels)"
      ],
      "metadata": {
        "id": "UXZc0FWmGzFX"
      },
      "execution_count": null,
      "outputs": []
    },
    {
      "cell_type": "code",
      "source": [
        "key_labels = extract_tags(doc_text)\n",
        "\n",
        "print(\"Etiketler:\")\n",
        "print(key_labels)"
      ],
      "metadata": {
        "id": "jow66-8ZpaF8"
      },
      "execution_count": null,
      "outputs": []
    },
    {
      "cell_type": "code",
      "source": [
        "key_labels = sumarry(doc_text)\n",
        "\n",
        "print(\"Etiketler:\")\n",
        "print(key_labels)"
      ],
      "metadata": {
        "id": "afCD7Be7lfho"
      },
      "execution_count": null,
      "outputs": []
    }
  ]
}