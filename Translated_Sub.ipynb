{
  "nbformat": 4,
  "nbformat_minor": 0,
  "metadata": {
    "colab": {
      "provenance": []
    },
    "kernelspec": {
      "name": "python3",
      "display_name": "Python 3"
    },
    "language_info": {
      "name": "python"
    }
  },
  "cells": [
    {
      "cell_type": "markdown",
      "source": [
        "# Konfigrasyonlar"
      ],
      "metadata": {
        "id": "IcVfAWLiLyDo"
      }
    },
    {
      "cell_type": "code",
      "source": [
        "# Video dosyasının adı\n",
        "FILENAME = \"demo.mp4\"\n",
        "\n",
        "# Çeviri için kullanılacak API anahtarı dosyasının adı\n",
        "KEY = \"key.json\"\n",
        "\n",
        "# Kaynak dil (video dil)\n",
        "CURRENT_LANGUAGE = \"en\"  # Örnek: İngilizce (\"en\")\n",
        "\n",
        "# Hedef dil (çevrilecek dil)\n",
        "TARGET_LANGUAGE = \"tr\"  # Örnek: Türkçe (\"tr\")\n",
        "\n",
        "# Altyazı Parametreleri\n",
        "font = \"Helvetica\"  # Metin fontu\n",
        "color = 'white'  # Metin rengi\n",
        "highlight_color = 'yellow'  # Vurgulama rengi\n",
        "stroke_color = 'black'  # Kenarlık rengi\n",
        "stroke_width = 1.5  # Kenarlık kalınlığı"
      ],
      "metadata": {
        "id": "NEZGfANKL25w"
      },
      "execution_count": null,
      "outputs": []
    },
    {
      "cell_type": "markdown",
      "source": [
        "# Gerekli Kütüphane Kurulumları\n"
      ],
      "metadata": {
        "id": "zCE1KWgrLlq1"
      }
    },
    {
      "cell_type": "code",
      "source": [
        "!pip install --quiet srt_file_translator\n",
        "\n",
        "!pip install --quiet ipython-autotime\n",
        "%load_ext autotime\n",
        "\n",
        "!pip install --quiet moviepy==2.0.0.dev2\n",
        "!pip install --quiet imageio==2.25.1\n",
        "!pip install --quiet ffmpeg-python==0.2.0\n",
        "!pip install --quiet faster-whisper==0.7.0\n",
        "!pip install --quiet python-docx"
      ],
      "metadata": {
        "id": "Tnfw1YAe7o-C"
      },
      "execution_count": null,
      "outputs": []
    },
    {
      "cell_type": "code",
      "source": [
        "!apt install imagemagick\n",
        "!cat /etc/ImageMagick-6/policy.xml | sed 's/none/read,write/g'> /etc/ImageMagick-6/policy.xml"
      ],
      "metadata": {
        "id": "_bJQtXdQK6VX"
      },
      "execution_count": null,
      "outputs": []
    },
    {
      "cell_type": "markdown",
      "source": [
        "# Core Functions"
      ],
      "metadata": {
        "id": "XGBQIxa_L3r2"
      }
    },
    {
      "cell_type": "code",
      "source": [
        "from faster_whisper import WhisperModel\n",
        "import ffmpeg\n",
        "import json\n",
        "from docx import Document\n",
        "import re\n",
        "from srt_file_translator import Translator\n",
        "from moviepy.editor import TextClip, CompositeVideoClip, ColorClip\n",
        "import numpy as np\n",
        "from moviepy.editor import TextClip, CompositeVideoClip, concatenate_videoclips,VideoFileClip, ColorClip"
      ],
      "metadata": {
        "id": "Sdl2yp0SprlT"
      },
      "execution_count": null,
      "outputs": []
    },
    {
      "cell_type": "code",
      "execution_count": null,
      "metadata": {
        "id": "KV-x8rZHpWpX"
      },
      "outputs": [],
      "source": [
        "#\n",
        "def extract_sound_file(fileName):\n",
        "    # MP4 dosya adını MP3 formatına dönüştür\n",
        "    audiofilename = fileName.replace(\".mp4\", '.mp3')\n",
        "\n",
        "    # ffmpeg ile dosyayı okumak için giriş akışı oluştur\n",
        "    input_stream = ffmpeg.input(fileName)\n",
        "\n",
        "    # Giriş akışından sadece ses verisini al\n",
        "    audio = input_stream.audio\n",
        "\n",
        "    # Çıktı olarak kullanılacak ses dosyasını ve adını ayarla\n",
        "    output_stream = ffmpeg.output(audio, audiofilename)\n",
        "\n",
        "    # Eğer hedef dosya zaten varsa üzerine yaz\n",
        "    output_stream = ffmpeg.overwrite_output(output_stream)\n",
        "\n",
        "    # ffmpeg işlemini başlat ve ses dosyasını oluştur\n",
        "    ffmpeg.run(output_stream)\n",
        "\n",
        "    # Oluşturulan ses dosyasının adını döndür\n",
        "    return audiofilename\n",
        "\n",
        "#\n",
        "# Belirli bir model boyutu için WhisperModel yükler.\n",
        "# `model_size` parametresi modelin boyutunu belirler (varsayılan olarak \"medium\").\n",
        "def load_model(model_size=\"medium\"):\n",
        "    # İstenen boyutta bir Whisper modeli oluşturur ve döndürür.\n",
        "    return WhisperModel(model_size)\n",
        "\n",
        "#\n",
        "# Verilen model ve ses dosyası adı kullanılarak ses dosyasından segmentler oluşturur.\n",
        "# `model` parametresi, transkripsiyon yapmak için kullanılacak modeli,\n",
        "# `audiofilename` parametresi ise transkribe edilecek ses dosyasının adını belirtir.\n",
        "def create_segments(model, audiofilename):\n",
        "    # Modelin `transcribe` metodunu çağırarak ses dosyasını transkribe eder.\n",
        "    # `word_timestamps=True` argümanı, her kelimenin başlangıç ve bitiş zaman damgalarını döndürür.\n",
        "    segments, info = model.transcribe(audiofilename, word_timestamps=True)\n",
        "    # Oluşturulan segmentleri döndürür.\n",
        "    return segments\n",
        "\n",
        "#\n",
        "# Verilen alt başlık segmentlerini SRT dosya formatına dönüştür\n",
        "def segments_to_srt(segments, output_filename=\"transcription.srt\"):\n",
        "    with open(output_filename, 'w', encoding='utf-8') as file:\n",
        "        for i, segment in enumerate(segments, start=1):\n",
        "            for word in segment.words:\n",
        "                start = word.start\n",
        "                end = word.end\n",
        "                # Zamanı SRT formatına çevirme\n",
        "                start_srt = \"%02d:%02d:%02d,%03d\" % (int(start / 3600), int(start / 60 % 60), int(start % 60), int(start * 1000 % 1000))\n",
        "                end_srt = \"%02d:%02d:%02d,%03d\" % (int(end / 3600), int(end / 60 % 60), int(end % 60), int(end * 1000 % 1000))\n",
        "                # Sıra numarası yazdır\n",
        "                file.write(f\"{i}\\n\")\n",
        "                # Başlangıç ve bitiş zamanlarını yazdır\n",
        "                file.write(f\"{start_srt} --> {end_srt}\\n\")\n",
        "                # Kelimeyi yazdır\n",
        "                file.write(f\"{word.word}\\n\\n\")\n",
        "\n",
        "\n",
        "#\n",
        "# Transkribe edilmiş segmentlerden kelime düzeyinde bilgileri işler.\n",
        "# `segments` parametresi, transkribe edilen kelimelerin segmentlerini içerir.\n",
        "def process(segments):\n",
        "    segments = list(segments)  # Segmentleri liste olarak işler.\n",
        "\n",
        "    segments_to_srt(segments)  # Segmentlerden ileride kullanmak için .str dosyası oluştur\n",
        "\n",
        "    wordlevel_info = []\n",
        "    # Her bir segment ve içerdiği kelimeler üzerinde döngü yapar.\n",
        "    for segment in segments:\n",
        "        for word in segment.words:\n",
        "            # Her kelimenin metnini, başlangıç ve bitiş zamanlarını içeren bir sözlük oluşturur.\n",
        "            wordlevel_info.append({'word': word.word, 'start': word.start, 'end': word.end})\n",
        "\n",
        "    # İşlenmiş kelime düzeyinde bilgileri döndürür.\n",
        "    return wordlevel_info\n",
        "\n",
        "#\n",
        "# Bir JSON dosyasını okur ve içeriğini döndürür.\n",
        "# `fileName` parametresi, okunacak JSON dosyasının adını belirtir (varsayılan olarak 'data.json').\n",
        "def read_json(fileName='translated.json'):\n",
        "    # Belirtilen dosyayı okuma modunda açar.\n",
        "    with open(fileName, 'r') as f:\n",
        "        # Dosya içeriğini JSON olarak yükler ve bir değişkene atar.\n",
        "        wordlevel_info_modified = json.load(f)\n",
        "\n",
        "    # Yüklenen veriyi döndürür.\n",
        "    return wordlevel_info_modified\n",
        "\n",
        "#\n",
        "# Alt yazıyı satrı satır forma çevirmek için\n",
        "def split_text_into_lines(data):\n",
        "    MaxChars = 30  # Bir satırdaki maksimum karakter sayısı.\n",
        "    MaxDuration = 2.5  # Bir satırın maksimum süresi (saniye cinsinden).\n",
        "    MaxGap = 1.5  # İki kelime arasındaki maksimum boşluk süresi (saniye cinsinden).\n",
        "\n",
        "    subtitles = []  # Sonuç alt yazı satırlarını saklamak için liste.\n",
        "    line = []  # Geçici olarak kelimeleri saklamak için kullanılan liste.\n",
        "    line_duration = 0  # Geçici satırın toplam süresi.\n",
        "    line_chars = 0  # Açıklama gereksiz, kullanılmıyor.\n",
        "\n",
        "    for idx, word_data in enumerate(data):  # Girdi verisindeki her kelime için döngü.\n",
        "        word = word_data[\"word\"]\n",
        "        start = word_data[\"start\"]\n",
        "        end = word_data[\"end\"]\n",
        "\n",
        "        line.append(word_data)  # Geçici satıra kelime eklenir.\n",
        "        line_duration += end - start  # Geçici satırın süresi güncellenir.\n",
        "\n",
        "        temp = \" \".join(item[\"word\"] for item in line)  # Geçici satırdaki kelimeler birleştirilir.\n",
        "\n",
        "        # Yeni bir kelime eklenmesiyle karakter sayısı veya süre sınırını aşılıp aşılmadığının kontrolü.\n",
        "        new_line_chars = len(temp)\n",
        "        duration_exceeded = line_duration > MaxDuration\n",
        "        chars_exceeded = new_line_chars > MaxChars\n",
        "\n",
        "        # İki kelime arasındaki boşluk süresinin kontrolü.\n",
        "        if idx > 0:\n",
        "            gap = word_data['start'] - data[idx-1]['end']\n",
        "            maxgap_exceeded = gap > MaxGap\n",
        "        else:\n",
        "            maxgap_exceeded = False  # İlk kelime için boşluk süresi kontrolü yapılmaz.\n",
        "\n",
        "        # Karakter sayısı, süre veya boşluk süresi sınırı aşıldıysa, geçici satır sonlandırılır.\n",
        "        if duration_exceeded or chars_exceeded or maxgap_exceeded:\n",
        "            if line:  # Eğer geçici satır boş değilse, sonuç listesine eklenir.\n",
        "                subtitle_line = {\n",
        "                    \"word\": \" \".join(item[\"word\"] for item in line),\n",
        "                    \"start\": line[0][\"start\"],\n",
        "                    \"end\": line[-1][\"end\"],\n",
        "                    \"textcontents\": line\n",
        "                }\n",
        "                subtitles.append(subtitle_line)\n",
        "                line = []  # Geçici satır sıfırlanır.\n",
        "                line_duration = 0\n",
        "\n",
        "    # Döngü bittiğinde, kalan son satır (varsa) sonuç listesine eklenir.\n",
        "    if line:\n",
        "        subtitle_line = {\n",
        "            \"word\": \" \".join(item[\"word\"] for item in line),\n",
        "            \"start\": line[0][\"start\"],\n",
        "            \"end\": line[-1][\"end\"],\n",
        "            \"textcontents\": line\n",
        "        }\n",
        "        subtitles.append(subtitle_line)\n",
        "\n",
        "    # Altyazıları döndür\n",
        "    return subtitles\n",
        "\n",
        "#\n",
        "# Bu fonksiyonu, metin tabanlı JSON verisini kullanarak, bir video içerisinde altyazılar oluşturmak üzere metin klip nesneleri dizisi üretir.\n",
        "def create_caption(textJSON, framesize,font=font,color=color, highlight_color=highlight_color,stroke_color=stroke_color,stroke_width=stroke_width):\n",
        "    wordcount = len(textJSON['textcontents'])  # JSON'da bulunan kelime sayısı.\n",
        "    full_duration = textJSON['end'] - textJSON['start']  # Altyazının toplam süresi.\n",
        "\n",
        "    word_clips = []  # Oluşturulan metin kliplerini saklamak için liste.\n",
        "    xy_textclips_positions = []  # Metin kliplerinin pozisyon bilgilerini saklamak için liste.\n",
        "\n",
        "    # Başlangıç pozisyonları ve satır genişliği.\n",
        "    x_pos = 0\n",
        "    y_pos = 0\n",
        "    line_width = 0\n",
        "    frame_width, frame_height = framesize\n",
        "\n",
        "    x_buffer = frame_width * 0.1  # Çerçevenin kenarlarından boşluk.\n",
        "    max_line_width = frame_width - 2 * x_buffer  # Maksimum satır genişliği.\n",
        "\n",
        "    fontsize = int(frame_height * 0.075)  # Font boyutu, video yüksekliğinin %7.5'i olarak ayarlanır.\n",
        "\n",
        "    for index, wordJSON in enumerate(textJSON['textcontents']):\n",
        "        duration = wordJSON['end'] - wordJSON['start']  # Kelimenin süresi.\n",
        "        # Her kelime için bir metin klipi oluşturulur.\n",
        "        word_clip = TextClip(wordJSON['word'], font=font, fontsize=fontsize, color=color, stroke_color=stroke_color, stroke_width=stroke_width).set_start(textJSON['start']).set_duration(full_duration)\n",
        "        word_clip_space = TextClip(\" \", font=font, fontsize=fontsize, color=color).set_start(textJSON['start']).set_duration(full_duration)\n",
        "        word_width, word_height = word_clip.size  # Metin klipinin boyutları.\n",
        "        space_width, space_height = word_clip_space.size  # Boşluk klipinin boyutları.\n",
        "\n",
        "        # Yeni kelimenin mevcut satıra sığdırılması veya yeni bir satıra geçilmesi.\n",
        "        if line_width + word_width + space_width <= max_line_width:\n",
        "            xy_textclips_positions.append({\n",
        "                \"x_pos\": x_pos,\n",
        "                \"y_pos\": y_pos,\n",
        "                \"width\": word_width,\n",
        "                \"height\": word_height,\n",
        "                \"word\": wordJSON['word'],\n",
        "                \"start\": wordJSON['start'],\n",
        "                \"end\": wordJSON['end'],\n",
        "                \"duration\": duration\n",
        "            })\n",
        "            word_clip = word_clip.set_position((x_pos, y_pos))\n",
        "            x_pos += word_width + space_width  # X pozisyonunu güncelle.\n",
        "            line_width += word_width + space_width  # Satır genişliğini güncelle.\n",
        "        else:\n",
        "            # Yeni satıra geçiş yapılır.\n",
        "            x_pos = 0\n",
        "            y_pos += word_height + 10  # Y pozisyonunu güncelle.\n",
        "            line_width = word_width + space_width  # Satır genişliğini sıfırla.\n",
        "\n",
        "            xy_textclips_positions.append({\n",
        "                \"x_pos\": x_pos,\n",
        "                \"y_pos\": y_pos,\n",
        "                \"width\": word_width,\n",
        "                \"height\": word_height,\n",
        "                \"word\": wordJSON['word'],\n",
        "                \"start\": wordJSON['start'],\n",
        "                \"end\": wordJSON['end'],\n",
        "                \"duration\": duration\n",
        "            })\n",
        "            word_clip = word_clip.set_position((x_pos, y_pos))\n",
        "            x_pos += word_width + space_width  # X pozisyonunu güncelle.\n",
        "\n",
        "        word_clips.append(word_clip)\n",
        "        word_clips.append(word_clip_space)  # Boşluk klipi de eklenir.\n",
        "\n",
        "    # Vurgulanan kelimeler için ayrı metin klipleri oluşturulur.\n",
        "    for highlight_word in xy_textclips_positions:\n",
        "        word_clip_highlight = TextClip(highlight_word['word'], font=font, fontsize=fontsize, color=highlight_color, stroke_color=stroke_color, stroke_width=stroke_width).set_start(highlight_word['start']).set_duration(highlight_word['duration'])\n",
        "        word_clip_highlight = word_clip_highlight.set_position((highlight_word['x_pos'], highlight_word['y_pos']))\n",
        "        word_clips.append(word_clip_highlight)  # Vurgulanan kelime klipleri listeye eklenir.\n",
        "\n",
        "    return word_clips, xy_textclips_positions"
      ]
    },
    {
      "cell_type": "code",
      "source": [
        "#\n",
        "def srt_to_docx(srt_file_path=\"transcription.srt\", docx_file_path=\"transcription.docx\"):\n",
        "    # Yeni bir Word belgesi oluştur\n",
        "    doc = Document()\n",
        "\n",
        "    # SRT dosyasından okunan tüm metinleri birleştirmek için boş bir string\n",
        "    full_text = ''\n",
        "\n",
        "    # SRT dosyasını oku ve içeriğini bir değişkene ata\n",
        "    with open(srt_file_path, 'r', encoding='utf-8') as file:\n",
        "        srt_content = file.read()\n",
        "\n",
        "    # SRT içeriğini alt yazı girişlerine ayır\n",
        "    subtitles = re.split(r'\\n\\n+', srt_content)\n",
        "\n",
        "    # Her alt yazı girişini işle ve tam metni oluştur\n",
        "    for subtitle in subtitles:\n",
        "        # Zaman damgalarını atla ve sadece metin kısmını al\n",
        "        lines = subtitle.split('\\n')[2:]\n",
        "        # Metin satırlarını birleştir\n",
        "        subtitle_text = ' '.join(lines)\n",
        "        # Tam metni güncelle\n",
        "        full_text += subtitle_text + ' '\n",
        "\n",
        "    # Tam metni Word belgesine ekle\n",
        "    doc.add_paragraph(full_text)\n",
        "\n",
        "    # Word belgesini kaydet\n",
        "    doc.save(docx_file_path)\n",
        "\n",
        "#\n",
        "# SRT zaman formatını saniyeye çevirme işlevi\n",
        "def parse_time_to_seconds(time_str):\n",
        "    hours, minutes, seconds, milliseconds = map(int, re.split('[:,]', time_str))\n",
        "    return hours * 3600 + minutes * 60 + seconds + milliseconds / 1000\n",
        "\n",
        "# SRT dosyasını JSON formatına dönüştürme işlevi\n",
        "def srt_to_json(srt_file_path = 'translated.srt', json_file_path = 'translated.json'):\n",
        "    # SRT dosyasını oku\n",
        "    with open(srt_file_path, 'r', encoding='utf-8') as file:\n",
        "        srt_content = file.read()\n",
        "\n",
        "    entries = []\n",
        "    # SRT içeriğini bloklara ayır (her bir alt başlık bir bloktur)\n",
        "    for block in re.split(r'\\n\\n+', srt_content.strip()):\n",
        "        lines = block.split('\\n')\n",
        "        if len(lines) >= 3:\n",
        "            # Zaman aralığını ve metin satırlarını al\n",
        "            time_range = lines[1]\n",
        "            text_lines = lines[2:]\n",
        "            # Başlangıç ve bitiş zamanlarını çıkart\n",
        "            start_time_str, end_time_str = re.findall(r'(\\d{2}:\\d{2}:\\d{2},\\d{3})', time_range)\n",
        "            start_time = parse_time_to_seconds(start_time_str)\n",
        "            end_time = parse_time_to_seconds(end_time_str)\n",
        "            text = ' '.join(text_lines)\n",
        "\n",
        "            # Metni kelimelere ayır\n",
        "            words = text.split()\n",
        "            # Her kelimenin süresini hesapla\n",
        "            duration = (end_time - start_time) / max(len(words), 1)\n",
        "            for i, word in enumerate(words):\n",
        "                word_start_time = start_time + i * duration\n",
        "                word_end_time = word_start_time + duration\n",
        "                # Kelime bilgilerini JSON girdisi olarak kaydet\n",
        "                entries.append({\n",
        "                    'word': word,\n",
        "                    'start': round(word_start_time, 2),\n",
        "                    'end': round(word_end_time, 2)\n",
        "                })\n",
        "\n",
        "    # JSON dosyasına yaz\n",
        "    with open(json_file_path, 'w', encoding='utf-8') as json_file:\n",
        "        json.dump(entries, json_file, indent=4, ensure_ascii=False)"
      ],
      "metadata": {
        "id": "hH625-zR1aCR"
      },
      "execution_count": null,
      "outputs": []
    },
    {
      "cell_type": "code",
      "source": [
        "def find_word_in_srt(search_word, srt_file_path=\"transcription.srt\"):\n",
        "    \"\"\"\n",
        "    Bir SRT dosyasında aranan kelimenin geçtiği tüm satırları bulur.\n",
        "    - search_word: Aranacak kelime (string).\n",
        "    - srt_file_path: SRT dosyasının yolu (string). Varsayılan değer 'transcription.srt'.\n",
        "    - Büyük/küçük harf duyarlılığı olmadan arama yapılır.\n",
        "    - Kelime tam eşleşmesi aranır (kelimenin tam olarak geçtiği yerler döndürülür).\n",
        "    - Bulunan satırların temizlenmiş hali (başında/sonunda boşluk olmadan) döndürülür.\n",
        "    \"\"\"\n",
        "    search_word = search_word.lower()  # Arama kelimesini küçük harfe çevir\n",
        "    matches = []  # Eşleşmeleri saklamak için boş liste\n",
        "\n",
        "    with open(srt_file_path, 'r', encoding='utf-8') as file:  # SRT dosyasını oku\n",
        "        for line in file:  # Dosyayı satır satır oku\n",
        "            line_lower = line.lower()  # Satırı küçük harfe çevir\n",
        "            # Aranan kelimenin tam eşleşmesini ara (kelime sınırları içinde)\n",
        "            if re.search(r'\\b' + re.escape(search_word) + r'\\b', line_lower):\n",
        "                matches.append(line.strip())  # Eşleşen satırı listeye ekle\n",
        "\n",
        "    return matches  # Eşleşen satırları döndür\n",
        "\n",
        "def find_word_and_timestamp_in_srt(search_word, srt_file_path=\"transcription.srt\"):\n",
        "    \"\"\"\n",
        "    Aranan kelimenin geçtiği yerleri ve karşılık gelen zaman bilgilerini SRT dosyasından bulur.\n",
        "    - search_word: Aranacak kelime (string).\n",
        "    - srt_file_path: SRT dosyasının yolu (string). Varsayılan değer 'transcription.srt'.\n",
        "    - Büyük/küçük harf duyarlılığı olmadan arama yapılır.\n",
        "    - Kelimenin geçtiği yerler ve ilgili zaman damgaları bir liste olarak döndürülür.\n",
        "    \"\"\"\n",
        "    search_word = search_word.lower()  # Arama kelimesini küçük harfe çevir\n",
        "    results = []  # Sonuçları saklamak için boş liste\n",
        "\n",
        "    with open(srt_file_path, 'r', encoding='utf-8') as file:\n",
        "        content = file.read()  # Dosyanın tamamını oku\n",
        "\n",
        "    subtitles = re.split(r'\\n\\n+', content)  # Alt yazı bloklarına ayır\n",
        "\n",
        "    for subtitle in subtitles:  # Her alt yazı bloğu için\n",
        "        lines = subtitle.split('\\n')  # Alt yazıyı satırlara ayır\n",
        "        if len(lines) < 3:  # Geçersiz alt yazı kontrolü\n",
        "            continue\n",
        "\n",
        "        time_info = lines[1]  # Zaman bilgisini al\n",
        "        text = ' '.join(lines[2:]).lower()  # Metni birleştir ve küçük harfe çevir\n",
        "\n",
        "        # Aranan kelimenin tam eşleşmesini metinde ara\n",
        "        if re.search(r'\\b' + re.escape(search_word) + r'\\b', text):\n",
        "            results.append((time_info, '\\n'.join(lines[2:])))  # Zaman bilgisi ve metni sonuçlara ekle"
      ],
      "metadata": {
        "id": "crGrFS2t11Y8"
      },
      "execution_count": null,
      "outputs": []
    },
    {
      "cell_type": "markdown",
      "source": [
        "# Runtime"
      ],
      "metadata": {
        "id": "TdtGI-_RNGze"
      }
    },
    {
      "cell_type": "code",
      "source": [
        "soundFile = extract_sound_file(FILENAME)  # Ses Dosyasını oluşturuyoruz"
      ],
      "metadata": {
        "id": "--i56hATNgHe"
      },
      "execution_count": null,
      "outputs": []
    },
    {
      "cell_type": "code",
      "source": [
        "model = load_model() # Modeli yüklüyoruz"
      ],
      "metadata": {
        "id": "wjIItF4yNgSE"
      },
      "execution_count": null,
      "outputs": []
    },
    {
      "cell_type": "code",
      "source": [
        "segments = create_segments(model, soundFile) # Modelden ses üzerinde gelen segmentleri alıyoruz"
      ],
      "metadata": {
        "id": "UkjSJVTzq2Br"
      },
      "execution_count": null,
      "outputs": []
    },
    {
      "cell_type": "code",
      "source": [
        "wli = process(segments) # segmentleri işliyoruz, bu sırasda orjinal dilde .srt dosyası oluşturyuyoruz"
      ],
      "metadata": {
        "id": "0fDKd-L9rJ41"
      },
      "execution_count": null,
      "outputs": []
    },
    {
      "cell_type": "code",
      "source": [
        "#srt dosyası oluşturulana kadar\n",
        "import time\n",
        "time.sleep(10)"
      ],
      "metadata": {
        "id": "xoryBmvRn3Tt"
      },
      "execution_count": null,
      "outputs": []
    },
    {
      "cell_type": "code",
      "source": [
        "# Translator sınıfını başlatma ve gerekli anahtarı sağlama\n",
        "translator = Translator(key_path=KEY)\n",
        "\n",
        "# Kaynak SRT dosyasının adı ve dil bilgileri\n",
        "source_file = \"transcription.srt\"  # Kaynak SRT dosyasının adı\n",
        "target_file = \"translated.srt\"  # Hedef SRT dosyasının adı\n",
        "source_language = CURRENT_LANGUAGE  # Kaynak dil kodu (örneğin: \"en\" for English)\n",
        "target_language = TARGET_LANGUAGE  # Hedef dil kodu (örneğin: \"fr\" for French)\n",
        "\n",
        "# SRT dosyasını çevirme işlemi\n",
        "translator.srt_file_translator(\n",
        "    source_file=source_file,\n",
        "    target_file=target_file,\n",
        "    source_language=source_language,\n",
        "    target_language=target_language\n",
        ")"
      ],
      "metadata": {
        "id": "vt8nLBl58Axe"
      },
      "execution_count": null,
      "outputs": []
    },
    {
      "cell_type": "code",
      "source": [
        "#çeviri dosyası oluşturulana kadar bekleme\n",
        "import time\n",
        "time.sleep(10)"
      ],
      "metadata": {
        "id": "lwranp5hoR88"
      },
      "execution_count": null,
      "outputs": []
    },
    {
      "cell_type": "code",
      "source": [
        "srt_to_json() # alt yazı ekleme için json formatına dönüştürme"
      ],
      "metadata": {
        "id": "kSpq49rHor7F"
      },
      "execution_count": null,
      "outputs": []
    },
    {
      "cell_type": "code",
      "source": [
        "data = read_json() # json.dan dosya çekme"
      ],
      "metadata": {
        "id": "dibMYKi89KTb"
      },
      "execution_count": null,
      "outputs": []
    },
    {
      "cell_type": "code",
      "source": [
        "subtitles = split_text_into_lines(data) # alt yazıları oluştur"
      ],
      "metadata": {
        "id": "fVF9Msaorf-y"
      },
      "execution_count": null,
      "outputs": []
    },
    {
      "cell_type": "code",
      "source": [
        "for line in subtitles:\n",
        "  json_str = json.dumps(line, indent=4)\n",
        "  print(json_str)"
      ],
      "metadata": {
        "id": "AeLy_bgqN6Eg"
      },
      "execution_count": null,
      "outputs": []
    },
    {
      "cell_type": "code",
      "execution_count": null,
      "metadata": {
        "id": "x8I7n1-h7xFR"
      },
      "outputs": [],
      "source": [
        "# Giriş video dosyasını yükle\n",
        "input_video = VideoFileClip(FILENAME)\n",
        "\n",
        "# Giriş video çerçevesinin boyutunu al\n",
        "frame_size = input_video.size\n",
        "\n",
        "# Tüm alt başlık seviyesi bölümlerini saklamka için boş liste oluşturur\n",
        "all_linelevel_splits = []\n",
        "\n",
        "# Her alt başlık için işlem yap\n",
        "for line in subtitles:\n",
        "    # Alt başlığı video çerçevesine eklemek için gerekli işlemleri yap\n",
        "    out_clips, positions = create_caption(line, frame_size)\n",
        "\n",
        "    # Alt başlıkların konumlarını ve boyutlarını hesapla\n",
        "    max_width = 0\n",
        "    max_height = 0\n",
        "    for position in positions:\n",
        "        x_pos, y_pos = position['x_pos'], position['y_pos']\n",
        "        width, height = position['width'], position['height']\n",
        "        max_width = max(max_width, x_pos + width)\n",
        "        max_height = max(max_height, y_pos + height)\n",
        "\n",
        "    # Arka plan rengini ve opaklığını ayarla\n",
        "    color_clip = ColorClip(size=(int(max_width * 1.1), int(max_height * 1.1)), color=(64, 64, 64))\n",
        "    color_clip = color_clip.set_opacity(.6)\n",
        "    color_clip = color_clip.set_start(line['start']).set_duration(line['end'] - line['start'])\n",
        "\n",
        "    # Alt başlığı ve arka planı birleştir\n",
        "    clip_to_overlay = CompositeVideoClip([color_clip] + out_clips)\n",
        "    clip_to_overlay = clip_to_overlay.set_position(\"bottom\")\n",
        "\n",
        "    # Oluşturulan bölümü listeye ekle\n",
        "    all_linelevel_splits.append(clip_to_overlay)\n",
        "\n",
        "# Giriş video süresini al\n",
        "input_video_duration = input_video.duration\n",
        "\n",
        "# Nihai videonun oluşturulması\n",
        "final_video = CompositeVideoClip([input_video] + all_linelevel_splits)\n",
        "\n",
        "# Nihai videonun sesini giriş videonun sesiyle aynı yap\n",
        "final_video = final_video.set_audio(input_video.audio)\n",
        "\n",
        "# Sonuç videoyu belirtilen adla kaydet\n",
        "final_video.write_videofile(\"output.mp4\", fps=24, codec=\"libx264\", audio_codec=\"aac\")"
      ]
    },
    {
      "cell_type": "markdown",
      "source": [
        "# Ekstra Özellikler"
      ],
      "metadata": {
        "id": "EYiFuiX3OPkn"
      }
    },
    {
      "cell_type": "code",
      "source": [
        "srt_to_docs() #srt formatın docs fomatına çeviri"
      ],
      "metadata": {
        "id": "tGsTY0ZTOidJ"
      },
      "execution_count": null,
      "outputs": []
    },
    {
      "cell_type": "code",
      "source": [
        "# Aranacak kelime\n",
        "search_word = \"pentagon\"\n",
        "\n",
        "# Belirtilen kelimenin SRT dosyasındaki geçtiği satırları bul\n",
        "matches = find_word_in_srt(search_word)\n",
        "\n",
        "# Eğer eşleşme bulunduysa\n",
        "if matches:\n",
        "    print(f\"'{search_word}' kelimesinin bulunduğu satırlar:\")\n",
        "    # Her eşleşmeyi ekrana yazdır\n",
        "    for match in matches:\n",
        "        print(match)\n",
        "else:\n",
        "    # Eğer eşleşme bulunamadıysa\n",
        "    print(f\"'{search_word}' kelimesi bulunamadı.\")"
      ],
      "metadata": {
        "id": "V8UOTvJB2Gxy"
      },
      "execution_count": null,
      "outputs": []
    },
    {
      "cell_type": "code",
      "source": [
        "# Aranacak kelime\n",
        "search_word = 'pentagon'\n",
        "\n",
        "# Belirtilen kelimenin SRT dosyasındaki zamanlar ve satırlarını bul\n",
        "matches = find_word_and_timestamp_in_srt(search_word)\n",
        "\n",
        "# Eğer eşleşme bulunduysa\n",
        "if matches:\n",
        "    print(f\"'{search_word}' kelimesinin bulunduğu zamanlar ve satırlar:\")\n",
        "    for time_info, match in matches:\n",
        "        # Zaman bilgisini ve eşleşen metni ekrana yazdır\n",
        "        print(f\"Zaman: {time_info}\")\n",
        "        print(f\"Metin: {match}\\n\")\n",
        "else:\n",
        "    # Eğer eşleşme bulunamadıysa\n",
        "    print(f\"'{search_word}' kelimesi bulunamadı.\")"
      ],
      "metadata": {
        "id": "NLQXoINZ3Gri"
      },
      "execution_count": null,
      "outputs": []
    }
  ]
}